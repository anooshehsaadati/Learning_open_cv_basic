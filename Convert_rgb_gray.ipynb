{
 "cells": [
  {
   "cell_type": "code",
   "execution_count": 5,
   "metadata": {},
   "outputs": [],
   "source": [
    "import cv2\n",
    "import numpy as np"
   ]
  },
  {
   "cell_type": "markdown",
   "metadata": {},
   "source": [
    "#### RGB to Gray"
   ]
  },
  {
   "cell_type": "code",
   "execution_count": 2,
   "metadata": {},
   "outputs": [],
   "source": [
    "img = cv2.imread(\"streets.jpg\")\n",
    "\n",
    "gray = cv2.cvtColor(img, cv2.COLOR_BGR2GRAY)\n",
    "\n",
    "cv2.imshow(\"RGB street\", img)\n",
    "cv2.imshow(\"gray street\", gray)\n",
    "\n",
    "cv2.waitKey(0)\n",
    "cv2.destroyAllWindows()"
   ]
  },
  {
   "cell_type": "markdown",
   "metadata": {},
   "source": [
    "#### Thresholding"
   ]
  },
  {
   "cell_type": "code",
   "execution_count": 3,
   "metadata": {},
   "outputs": [],
   "source": [
    "img = cv2.imread(\"streets.jpg\")\n",
    "gray = cv2.cvtColor(img, cv2.COLOR_BGR2GRAY)\n",
    "\n",
    "T, thresh = cv2.threshold(gray, 100, 255, cv2.THRESH_BINARY)\n",
    "\n",
    "cv2.imshow(\"RGB street\", img)\n",
    "cv2.imshow(\"gray street\", gray)\n",
    "cv2.imshow(\"threshold street\", thresh)\n",
    "\n",
    "cv2.waitKey(0)\n",
    "cv2.destroyAllWindows()"
   ]
  },
  {
   "cell_type": "markdown",
   "metadata": {},
   "source": [
    "#### Inverse Thresholding"
   ]
  },
  {
   "cell_type": "code",
   "execution_count": 4,
   "metadata": {},
   "outputs": [],
   "source": [
    "img = cv2.imread(\"streets.jpg\")\n",
    "gray = cv2.cvtColor(img, cv2.COLOR_BGR2GRAY)\n",
    "\n",
    "T, thresh = cv2.threshold(gray, 100, 255, cv2.THRESH_BINARY)\n",
    "T2, thresh2 = cv2.threshold(gray, 100, 255, cv2.THRESH_BINARY_INV)\n",
    "\n",
    "cv2.imshow(\"RGB street\", img)\n",
    "cv2.imshow(\"gray street\", gray)\n",
    "cv2.imshow(\"threshold street\", thresh)\n",
    "cv2.imshow(\"threshold street2\", thresh2)\n",
    "\n",
    "cv2.waitKey(0)\n",
    "cv2.destroyAllWindows()"
   ]
  },
  {
   "cell_type": "markdown",
   "metadata": {},
   "source": [
    "#### inRange Method"
   ]
  },
  {
   "cell_type": "code",
   "execution_count": 6,
   "metadata": {},
   "outputs": [],
   "source": [
    "lower = np.array([20, 70, 90])\n",
    "upper = np.array([170, 200, 150])\n",
    "\n",
    "img = cv2.imread(\"streets.jpg\")\n",
    "\n",
    "bin_img = cv2.inRange(img, lower, upper)\n",
    "\n",
    "cv2.imshow(\"RGB street\", img)\n",
    "cv2.imshow(\"bin street\", bin_img)\n",
    "\n",
    "cv2.waitKey(0)\n",
    "cv2.destroyAllWindows() "
   ]
  }
 ],
 "metadata": {
  "kernelspec": {
   "display_name": "Python 3",
   "language": "python",
   "name": "python3"
  },
  "language_info": {
   "codemirror_mode": {
    "name": "ipython",
    "version": 3
   },
   "file_extension": ".py",
   "mimetype": "text/x-python",
   "name": "python",
   "nbconvert_exporter": "python",
   "pygments_lexer": "ipython3",
   "version": "3.10.11"
  },
  "orig_nbformat": 4
 },
 "nbformat": 4,
 "nbformat_minor": 2
}
