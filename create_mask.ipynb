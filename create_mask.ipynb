{
 "cells": [
  {
   "cell_type": "code",
   "execution_count": 11,
   "metadata": {},
   "outputs": [],
   "source": [
    "import cv2\n",
    "import numpy as np"
   ]
  },
  {
   "cell_type": "code",
   "execution_count": 16,
   "metadata": {},
   "outputs": [],
   "source": [
    "img = cv2.imread(\"circle_image.png\")\n",
    "hsv = cv2.cvtColor(img, cv2.COLOR_BGR2HSV)\n",
    "\n",
    "lower = np.array([8, 0, 0])\n",
    "upper = np.array([255, 255, 255])\n",
    "\n",
    "out = cv2.inRange(hsv, lower, upper)\n",
    "\n",
    "erosion = cv2.erode(out, None, iterations=2)\n",
    "dilate = cv2.dilate(erosion, None, iterations=2)\n",
    "\n",
    "cv2.imshow(\"image\", img)\n",
    "cv2.imshow(\"output\", out)\n",
    "cv2.imshow(\"erosion\", erosion)\n",
    "cv2.imshow(\"dilate\", dilate)\n",
    "cv2.waitKey(0)\n",
    "cv2.destroyAllWindows()"
   ]
  },
  {
   "cell_type": "markdown",
   "metadata": {},
   "source": [
    "### Contours"
   ]
  },
  {
   "cell_type": "code",
   "execution_count": 18,
   "metadata": {},
   "outputs": [],
   "source": [
    "img = cv2.imread(\"circle_image.png\")\n",
    "hsv = cv2.cvtColor(img, cv2.COLOR_BGR2HSV)\n",
    "\n",
    "lower = np.array([8, 0, 0])\n",
    "upper = np.array([255, 255, 255])\n",
    "\n",
    "out = cv2.inRange(hsv, lower, upper)\n",
    "\n",
    "erosion = cv2.erode(out, None, iterations=2)\n",
    "dilate = cv2.dilate(erosion, None, iterations=2)\n",
    "\n",
    "cnts, _ = cv2.findContours(dilate, cv2.RETR_EXTERNAL, cv2.CHAIN_APPROX_SIMPLE)\n",
    "\n",
    "cv2.drawContours(img, cnts, -1, (0, 255, 0), 2)\n",
    "\n",
    "cv2.imshow(\"image\", img)\n",
    "cv2.imshow(\"output\", out)\n",
    "cv2.imshow(\"erosion\", erosion)\n",
    "cv2.imshow(\"dilate\", dilate)\n",
    "cv2.waitKey(0)\n",
    "cv2.destroyAllWindows()"
   ]
  }
 ],
 "metadata": {
  "kernelspec": {
   "display_name": "Python 3",
   "language": "python",
   "name": "python3"
  },
  "language_info": {
   "codemirror_mode": {
    "name": "ipython",
    "version": 3
   },
   "file_extension": ".py",
   "mimetype": "text/x-python",
   "name": "python",
   "nbconvert_exporter": "python",
   "pygments_lexer": "ipython3",
   "version": "3.10.11"
  },
  "orig_nbformat": 4
 },
 "nbformat": 4,
 "nbformat_minor": 2
}
