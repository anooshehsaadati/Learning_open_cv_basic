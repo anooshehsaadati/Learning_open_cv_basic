{
 "cells": [
  {
   "cell_type": "code",
   "execution_count": 1,
   "metadata": {},
   "outputs": [],
   "source": [
    "import cv2"
   ]
  },
  {
   "cell_type": "code",
   "execution_count": 2,
   "metadata": {},
   "outputs": [
    {
     "name": "stdout",
     "output_type": "stream",
     "text": [
      "4.7.0\n"
     ]
    }
   ],
   "source": [
    "print(cv2.__version__)"
   ]
  },
  {
   "cell_type": "code",
   "execution_count": 3,
   "metadata": {},
   "outputs": [
    {
     "name": "stdout",
     "output_type": "stream",
     "text": [
      "(1700, 1900, 3)\n",
      "255\n"
     ]
    }
   ],
   "source": [
    "# Read image\n",
    "img = cv2.imread(\"circle_image.png\")\n",
    "\n",
    "# Show image\n",
    "cv2.imshow(\"image window\", img)\n",
    "\n",
    "# wait with key if input is 0\n",
    "cv2.waitKey(0)\n",
    "\n",
    "# wait for time end if input is 1000 ms\n",
    "cv2.waitKey(1000)\n",
    "\n",
    "# Shape of image width,height, channal\n",
    "print(img.shape)\n",
    "\n",
    "# value of specific index\n",
    "print(img[10, 20, 0])\n",
    "\n",
    "roi = img[100:500, 200:800]\n",
    "cv2.imshow(\"roi window\", roi)\n",
    "cv2.waitKey(0)\n",
    "\n",
    "# Write image\n",
    "cv2.imwrite(\"change_circle_image.jpg\", img)\n",
    "\n",
    "# Destroy of RAM\n",
    "cv2.destroyWindow(\"image window\")\n",
    "cv2.destroyAllWindows()"
   ]
  }
 ],
 "metadata": {
  "kernelspec": {
   "display_name": "Python 3",
   "language": "python",
   "name": "python3"
  },
  "language_info": {
   "codemirror_mode": {
    "name": "ipython",
    "version": 3
   },
   "file_extension": ".py",
   "mimetype": "text/x-python",
   "name": "python",
   "nbconvert_exporter": "python",
   "pygments_lexer": "ipython3",
   "version": "3.10.11"
  },
  "orig_nbformat": 4
 },
 "nbformat": 4,
 "nbformat_minor": 2
}
