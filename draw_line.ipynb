{
 "cells": [
  {
   "cell_type": "code",
   "execution_count": 2,
   "metadata": {},
   "outputs": [],
   "source": [
    "import cv2"
   ]
  },
  {
   "cell_type": "markdown",
   "metadata": {},
   "source": [
    "#### Line"
   ]
  },
  {
   "cell_type": "code",
   "execution_count": 7,
   "metadata": {},
   "outputs": [],
   "source": [
    "img = cv2.imread(\"streets.jpg\")\n",
    "\n",
    "# Draw Line\n",
    "cv2.line(img, (100, 80), (150, 270), (0, 255, 0), 2)\n",
    "\n",
    "cv2.imshow(\"street\", img)\n",
    "cv2.waitKey(0)\n",
    "cv2.destroyAllWindows()"
   ]
  },
  {
   "cell_type": "markdown",
   "metadata": {},
   "source": [
    "#### Rectangle"
   ]
  },
  {
   "cell_type": "code",
   "execution_count": 8,
   "metadata": {},
   "outputs": [],
   "source": [
    "img = cv2.imread(\"streets.jpg\")\n",
    "\n",
    "# Draw Rectangle\n",
    "cv2.rectangle(img, (100, 80), (150, 270), (0, 255, 0), 2)\n",
    "\n",
    "cv2.imshow(\"street\", img)\n",
    "cv2.waitKey(0)\n",
    "cv2.destroyAllWindows()"
   ]
  },
  {
   "cell_type": "markdown",
   "metadata": {},
   "source": [
    "#### Circle"
   ]
  },
  {
   "cell_type": "code",
   "execution_count": 10,
   "metadata": {},
   "outputs": [],
   "source": [
    "img = cv2.imread(\"streets.jpg\")\n",
    "\n",
    "# Draw Circle\n",
    "cv2.circle(img, (200, 200), 100, (0, 255, 0), 2)\n",
    "\n",
    "cv2.imshow(\"street\", img)\n",
    "cv2.waitKey(0)\n",
    "cv2.destroyAllWindows()"
   ]
  },
  {
   "cell_type": "markdown",
   "metadata": {},
   "source": [
    "#### Ellipse"
   ]
  },
  {
   "cell_type": "code",
   "execution_count": 12,
   "metadata": {},
   "outputs": [],
   "source": [
    "img = cv2.imread(\"streets.jpg\")\n",
    "\n",
    "# Draw Ellipse\n",
    "cv2.ellipse(img, (200, 200), (100, 30), 0, 0, 360, (0, 255, 0), 2)\n",
    "\n",
    "cv2.imshow(\"street\", img)\n",
    "cv2.waitKey(0)\n",
    "cv2.destroyAllWindows()"
   ]
  },
  {
   "cell_type": "markdown",
   "metadata": {},
   "source": [
    "#### Text"
   ]
  },
  {
   "cell_type": "code",
   "execution_count": 30,
   "metadata": {},
   "outputs": [],
   "source": [
    "img = cv2.imread(\"streets.jpg\")\n",
    "\n",
    "# Put Text\n",
    "cv2.putText(img, \"human\", (120, 290), cv2.FONT_HERSHEY_SIMPLEX, 0.6, (0, 255, 0), 2)\n",
    "# Draw Rectangle\n",
    "cv2.rectangle(img, (100, 300), (200, 470), (0, 255, 0), 2)\n",
    "\n",
    "cv2.imshow(\"street\", img)\n",
    "cv2.imwrite(\"text_rec_image.jpg\", img)\n",
    "cv2.waitKey(0)\n",
    "cv2.destroyAllWindows()"
   ]
  }
 ],
 "metadata": {
  "kernelspec": {
   "display_name": "Python 3",
   "language": "python",
   "name": "python3"
  },
  "language_info": {
   "codemirror_mode": {
    "name": "ipython",
    "version": 3
   },
   "file_extension": ".py",
   "mimetype": "text/x-python",
   "name": "python",
   "nbconvert_exporter": "python",
   "pygments_lexer": "ipython3",
   "version": "3.10.11"
  },
  "orig_nbformat": 4
 },
 "nbformat": 4,
 "nbformat_minor": 2
}
